{
 "cells": [
  {
   "cell_type": "markdown",
   "metadata": {},
   "source": [
    "3. Model Development\n",
    "Train-Test Split:"
   ]
  },
  {
   "cell_type": "code",
   "execution_count": 116,
   "metadata": {},
   "outputs": [],
   "source": [
    "import pandas as pd"
   ]
  },
  {
   "cell_type": "code",
   "execution_count": 117,
   "metadata": {},
   "outputs": [],
   "source": [
    "df_m = pd.read_csv(\"FAANG_clean.csv\")"
   ]
  },
  {
   "cell_type": "markdown",
   "metadata": {},
   "source": [
    "Normalize Numerical Features:"
   ]
  },
  {
   "cell_type": "markdown",
   "metadata": {},
   "source": [
    "1. Min-Max Scaling"
   ]
  },
  {
   "cell_type": "code",
   "execution_count": 118,
   "metadata": {},
   "outputs": [
    {
     "name": "stdout",
     "output_type": "stream",
     "text": [
      "Training Set:\n",
      "            Open      High       Low     Close  Adj Close     Volume  \\\n",
      "0      1.156786  1.162679  1.117857  1.130179   0.954409  293751500   \n",
      "1      1.139107  1.169107  1.124464  1.141786   0.964210  293751500   \n",
      "2      1.151071  1.165179  1.143750  1.151786   0.972655  293751500   \n",
      "3      1.154821  1.159107  1.130893  1.152679   0.973409  293751500   \n",
      "4      1.160714  1.243393  1.156250  1.236607   1.044284  293751500   \n",
      "...         ...       ...       ...       ...        ...        ...   \n",
      "18439  3.951429  3.960000  3.847143  3.874286   3.874286    8561700   \n",
      "18440  3.905714  4.024286  3.865714  4.002857   4.002857    8585500   \n",
      "18441  3.948571  3.962857  3.827143  3.868571   3.868571   16476600   \n",
      "18442  3.888571  3.897143  3.791429  3.881429   3.881429   10173100   \n",
      "18443  4.007143  4.070000  3.895714  3.952857   3.952857    9859500   \n",
      "\n",
      "       Stock_Amazon  Stock_Apple  Stock_Facebook  Stock_Google  ...  month_8  \\\n",
      "0             False         True           False         False  ...    False   \n",
      "1             False         True           False         False  ...    False   \n",
      "2             False         True           False         False  ...    False   \n",
      "3             False         True           False         False  ...    False   \n",
      "4             False         True           False         False  ...    False   \n",
      "...             ...          ...             ...           ...  ...      ...   \n",
      "18439         False        False           False         False  ...    False   \n",
      "18440         False        False           False         False  ...    False   \n",
      "18441         False        False           False         False  ...    False   \n",
      "18442         False        False           False         False  ...    False   \n",
      "18443         False        False           False         False  ...    False   \n",
      "\n",
      "       month_9  month_10  month_11  month_12  day_of_week_Friday  \\\n",
      "0        False     False     False     False               False   \n",
      "1        False     False     False     False               False   \n",
      "2        False     False     False     False               False   \n",
      "3        False     False     False     False               False   \n",
      "4        False     False     False     False                True   \n",
      "...        ...       ...       ...       ...                 ...   \n",
      "18439    False     False     False     False                True   \n",
      "18440    False     False     False     False               False   \n",
      "18441    False     False     False     False               False   \n",
      "18442    False     False     False     False               False   \n",
      "18443    False     False     False     False               False   \n",
      "\n",
      "       day_of_week_Monday  day_of_week_Thursday  day_of_week_Tuesday  \\\n",
      "0                    True                 False                False   \n",
      "1                   False                 False                 True   \n",
      "2                   False                 False                False   \n",
      "3                   False                  True                False   \n",
      "4                   False                 False                False   \n",
      "...                   ...                   ...                  ...   \n",
      "18439               False                 False                False   \n",
      "18440                True                 False                False   \n",
      "18441               False                 False                 True   \n",
      "18442               False                 False                False   \n",
      "18443               False                  True                False   \n",
      "\n",
      "       day_of_week_Wednesday  \n",
      "0                      False  \n",
      "1                      False  \n",
      "2                       True  \n",
      "3                      False  \n",
      "4                      False  \n",
      "...                      ...  \n",
      "18439                  False  \n",
      "18440                  False  \n",
      "18441                  False  \n",
      "18442                   True  \n",
      "18443                  False  \n",
      "\n",
      "[18444 rows x 29 columns]\n",
      "Testing Set:\n",
      "              Open        High         Low       Close   Adj Close   Volume  \\\n",
      "18444    3.930000    3.960000    3.892857    3.905714    3.905714  3780700   \n",
      "18445    3.924286    4.007143    3.924286    3.957143    3.957143  4006100   \n",
      "18446    3.965714    3.974286    3.838571    3.844286    3.844286  5217100   \n",
      "18447    3.874286    3.875714    3.752857    3.794286    3.794286  5618900   \n",
      "18448    3.800000    3.894286    3.798571    3.880000    3.880000  5491500   \n",
      "...           ...         ...         ...         ...         ...      ...   \n",
      "23050  319.531527  323.578279  316.243249  319.843610  318.384955  2299500   \n",
      "23051  319.531527  323.578279  316.243249  319.843610  318.384955  2797100   \n",
      "23052  319.531527  323.578279  316.243249  319.843610  318.384955  2932800   \n",
      "23053  319.531527  323.578279  316.243249  319.843610  318.384955  2494300   \n",
      "23054  319.531527  323.578279  316.243249  319.843610  318.384955  8820000   \n",
      "\n",
      "       Stock_Amazon  Stock_Apple  Stock_Facebook  Stock_Google  ...  month_8  \\\n",
      "18444         False        False           False         False  ...    False   \n",
      "18445         False        False           False         False  ...    False   \n",
      "18446         False        False           False         False  ...    False   \n",
      "18447         False        False           False         False  ...    False   \n",
      "18448         False        False           False         False  ...    False   \n",
      "...             ...          ...             ...           ...  ...      ...   \n",
      "23050         False        False           False         False  ...    False   \n",
      "23051         False        False           False         False  ...    False   \n",
      "23052         False        False           False         False  ...    False   \n",
      "23053         False        False           False         False  ...    False   \n",
      "23054         False        False           False         False  ...    False   \n",
      "\n",
      "       month_9  month_10  month_11  month_12  day_of_week_Friday  \\\n",
      "18444    False     False     False     False                True   \n",
      "18445    False     False     False     False               False   \n",
      "18446    False     False     False     False               False   \n",
      "18447    False     False     False     False               False   \n",
      "18448    False     False     False     False               False   \n",
      "...        ...       ...       ...       ...                 ...   \n",
      "23050    False      True     False     False                True   \n",
      "23051    False      True     False     False               False   \n",
      "23052    False      True     False     False               False   \n",
      "23053    False      True     False     False               False   \n",
      "23054    False      True     False     False               False   \n",
      "\n",
      "       day_of_week_Monday  day_of_week_Thursday  day_of_week_Tuesday  \\\n",
      "18444               False                 False                False   \n",
      "18445                True                 False                False   \n",
      "18446               False                 False                 True   \n",
      "18447               False                 False                False   \n",
      "18448               False                  True                False   \n",
      "...                   ...                   ...                  ...   \n",
      "23050               False                 False                False   \n",
      "23051                True                 False                False   \n",
      "23052               False                 False                 True   \n",
      "23053               False                 False                False   \n",
      "23054               False                  True                False   \n",
      "\n",
      "       day_of_week_Wednesday  \n",
      "18444                  False  \n",
      "18445                  False  \n",
      "18446                  False  \n",
      "18447                   True  \n",
      "18448                  False  \n",
      "...                      ...  \n",
      "23050                  False  \n",
      "23051                  False  \n",
      "23052                  False  \n",
      "23053                   True  \n",
      "23054                  False  \n",
      "\n",
      "[4611 rows x 29 columns]\n"
     ]
    }
   ],
   "source": [
    "# Define the split ratio\n",
    "train_size = int(len(df_m) * 0.8)\n",
    "\n",
    "# Split the data\n",
    "train = df_m[:train_size]  # First 80% for training\n",
    "test = df_m[train_size:]   # Remaining 20% for testing\n",
    "\n",
    "print(\"Training Set:\\n\", train)\n",
    "print(\"Testing Set:\\n\", test)"
   ]
  },
  {
   "cell_type": "code",
   "execution_count": 119,
   "metadata": {},
   "outputs": [],
   "source": [
    "\n",
    "\n",
    "from sklearn.preprocessing import MinMaxScaler\n",
    "import pickle\n",
    "\n",
    "# Create and fit the scaler\n",
    "\n",
    "# Select numerical columns for scaling\n",
    "numerical_columns = ['Open', 'High', 'Low', 'Close', 'Adj Close', 'Volume', 'year_encoded']\n",
    "\n",
    "\n",
    "# Initialize Min-Max Scaler\n",
    "scaler = MinMaxScaler()\n",
    "\n",
    "# Apply scaling to numerical columns\n",
    "df_m[numerical_columns] = scaler.fit_transform(df_m[numerical_columns])\n",
    "\n",
    "# Save the scaler\n",
    "with open('scaler.pkl', 'wb') as f:\n",
    "    pickle.dump(scaler, f)"
   ]
  },
  {
   "cell_type": "code",
   "execution_count": 120,
   "metadata": {},
   "outputs": [
    {
     "data": {
      "text/html": [
       "<div>\n",
       "<style scoped>\n",
       "    .dataframe tbody tr th:only-of-type {\n",
       "        vertical-align: middle;\n",
       "    }\n",
       "\n",
       "    .dataframe tbody tr th {\n",
       "        vertical-align: top;\n",
       "    }\n",
       "\n",
       "    .dataframe thead th {\n",
       "        text-align: right;\n",
       "    }\n",
       "</style>\n",
       "<table border=\"1\" class=\"dataframe\">\n",
       "  <thead>\n",
       "    <tr style=\"text-align: right;\">\n",
       "      <th></th>\n",
       "      <th>Open</th>\n",
       "      <th>High</th>\n",
       "      <th>Low</th>\n",
       "      <th>Close</th>\n",
       "      <th>Adj Close</th>\n",
       "      <th>Volume</th>\n",
       "      <th>Stock_Amazon</th>\n",
       "      <th>Stock_Apple</th>\n",
       "      <th>Stock_Facebook</th>\n",
       "      <th>Stock_Google</th>\n",
       "      <th>...</th>\n",
       "      <th>month_8</th>\n",
       "      <th>month_9</th>\n",
       "      <th>month_10</th>\n",
       "      <th>month_11</th>\n",
       "      <th>month_12</th>\n",
       "      <th>day_of_week_Friday</th>\n",
       "      <th>day_of_week_Monday</th>\n",
       "      <th>day_of_week_Thursday</th>\n",
       "      <th>day_of_week_Tuesday</th>\n",
       "      <th>day_of_week_Wednesday</th>\n",
       "    </tr>\n",
       "  </thead>\n",
       "  <tbody>\n",
       "    <tr>\n",
       "      <th>0</th>\n",
       "      <td>0.000056</td>\n",
       "      <td>0.000011</td>\n",
       "      <td>0.000000</td>\n",
       "      <td>0.000000</td>\n",
       "      <td>0.000000</td>\n",
       "      <td>1.0</td>\n",
       "      <td>False</td>\n",
       "      <td>True</td>\n",
       "      <td>False</td>\n",
       "      <td>False</td>\n",
       "      <td>...</td>\n",
       "      <td>False</td>\n",
       "      <td>False</td>\n",
       "      <td>False</td>\n",
       "      <td>False</td>\n",
       "      <td>False</td>\n",
       "      <td>False</td>\n",
       "      <td>True</td>\n",
       "      <td>False</td>\n",
       "      <td>False</td>\n",
       "      <td>False</td>\n",
       "    </tr>\n",
       "    <tr>\n",
       "      <th>1</th>\n",
       "      <td>0.000000</td>\n",
       "      <td>0.000031</td>\n",
       "      <td>0.000021</td>\n",
       "      <td>0.000036</td>\n",
       "      <td>0.000031</td>\n",
       "      <td>1.0</td>\n",
       "      <td>False</td>\n",
       "      <td>True</td>\n",
       "      <td>False</td>\n",
       "      <td>False</td>\n",
       "      <td>...</td>\n",
       "      <td>False</td>\n",
       "      <td>False</td>\n",
       "      <td>False</td>\n",
       "      <td>False</td>\n",
       "      <td>False</td>\n",
       "      <td>False</td>\n",
       "      <td>False</td>\n",
       "      <td>False</td>\n",
       "      <td>True</td>\n",
       "      <td>False</td>\n",
       "    </tr>\n",
       "    <tr>\n",
       "      <th>2</th>\n",
       "      <td>0.000038</td>\n",
       "      <td>0.000019</td>\n",
       "      <td>0.000082</td>\n",
       "      <td>0.000068</td>\n",
       "      <td>0.000057</td>\n",
       "      <td>1.0</td>\n",
       "      <td>False</td>\n",
       "      <td>True</td>\n",
       "      <td>False</td>\n",
       "      <td>False</td>\n",
       "      <td>...</td>\n",
       "      <td>False</td>\n",
       "      <td>False</td>\n",
       "      <td>False</td>\n",
       "      <td>False</td>\n",
       "      <td>False</td>\n",
       "      <td>False</td>\n",
       "      <td>False</td>\n",
       "      <td>False</td>\n",
       "      <td>False</td>\n",
       "      <td>True</td>\n",
       "    </tr>\n",
       "    <tr>\n",
       "      <th>3</th>\n",
       "      <td>0.000049</td>\n",
       "      <td>0.000000</td>\n",
       "      <td>0.000041</td>\n",
       "      <td>0.000071</td>\n",
       "      <td>0.000060</td>\n",
       "      <td>1.0</td>\n",
       "      <td>False</td>\n",
       "      <td>True</td>\n",
       "      <td>False</td>\n",
       "      <td>False</td>\n",
       "      <td>...</td>\n",
       "      <td>False</td>\n",
       "      <td>False</td>\n",
       "      <td>False</td>\n",
       "      <td>False</td>\n",
       "      <td>False</td>\n",
       "      <td>False</td>\n",
       "      <td>False</td>\n",
       "      <td>True</td>\n",
       "      <td>False</td>\n",
       "      <td>False</td>\n",
       "    </tr>\n",
       "    <tr>\n",
       "      <th>4</th>\n",
       "      <td>0.000068</td>\n",
       "      <td>0.000261</td>\n",
       "      <td>0.000122</td>\n",
       "      <td>0.000334</td>\n",
       "      <td>0.000283</td>\n",
       "      <td>1.0</td>\n",
       "      <td>False</td>\n",
       "      <td>True</td>\n",
       "      <td>False</td>\n",
       "      <td>False</td>\n",
       "      <td>...</td>\n",
       "      <td>False</td>\n",
       "      <td>False</td>\n",
       "      <td>False</td>\n",
       "      <td>False</td>\n",
       "      <td>False</td>\n",
       "      <td>True</td>\n",
       "      <td>False</td>\n",
       "      <td>False</td>\n",
       "      <td>False</td>\n",
       "      <td>False</td>\n",
       "    </tr>\n",
       "  </tbody>\n",
       "</table>\n",
       "<p>5 rows × 29 columns</p>\n",
       "</div>"
      ],
      "text/plain": [
       "       Open      High       Low     Close  Adj Close  Volume  Stock_Amazon  \\\n",
       "0  0.000056  0.000011  0.000000  0.000000   0.000000     1.0         False   \n",
       "1  0.000000  0.000031  0.000021  0.000036   0.000031     1.0         False   \n",
       "2  0.000038  0.000019  0.000082  0.000068   0.000057     1.0         False   \n",
       "3  0.000049  0.000000  0.000041  0.000071   0.000060     1.0         False   \n",
       "4  0.000068  0.000261  0.000122  0.000334   0.000283     1.0         False   \n",
       "\n",
       "   Stock_Apple  Stock_Facebook  Stock_Google  ...  month_8  month_9  month_10  \\\n",
       "0         True           False         False  ...    False    False     False   \n",
       "1         True           False         False  ...    False    False     False   \n",
       "2         True           False         False  ...    False    False     False   \n",
       "3         True           False         False  ...    False    False     False   \n",
       "4         True           False         False  ...    False    False     False   \n",
       "\n",
       "   month_11  month_12  day_of_week_Friday  day_of_week_Monday  \\\n",
       "0     False     False               False                True   \n",
       "1     False     False               False               False   \n",
       "2     False     False               False               False   \n",
       "3     False     False               False               False   \n",
       "4     False     False                True               False   \n",
       "\n",
       "   day_of_week_Thursday  day_of_week_Tuesday  day_of_week_Wednesday  \n",
       "0                 False                False                  False  \n",
       "1                 False                 True                  False  \n",
       "2                 False                False                   True  \n",
       "3                  True                False                  False  \n",
       "4                 False                False                  False  \n",
       "\n",
       "[5 rows x 29 columns]"
      ]
     },
     "execution_count": 120,
     "metadata": {},
     "output_type": "execute_result"
    }
   ],
   "source": [
    "df_m.head()"
   ]
  },
  {
   "cell_type": "code",
   "execution_count": 121,
   "metadata": {},
   "outputs": [
    {
     "name": "stdout",
     "output_type": "stream",
     "text": [
      "LinearRegression - Evaluation Metrics:\n",
      "Mean Absolute Error (MAE): 0.0011585753479498302\n",
      "Mean Squared Error (MSE): 2.550111696421176e-06\n",
      "R^2 Score: 0.9999854878974527\n",
      "\n",
      "DecisionTree - Evaluation Metrics:\n",
      "Mean Absolute Error (MAE): 0.0005580101035084823\n",
      "Mean Squared Error (MSE): 1.2666905594079237e-06\n",
      "R^2 Score: 0.999992791553672\n",
      "\n",
      "RandomForest - Evaluation Metrics:\n",
      "Mean Absolute Error (MAE): 0.0004968380056403004\n",
      "Mean Squared Error (MSE): 9.125305289525944e-07\n",
      "R^2 Score: 0.9999948069974219\n",
      "\n",
      "XGBoost - Evaluation Metrics:\n",
      "Mean Absolute Error (MAE): 0.0032935696803984725\n",
      "Mean Squared Error (MSE): 4.2782394422733736e-05\n",
      "R^2 Score: 0.9997565351761045\n",
      "\n",
      "Best model (RandomForest) saved as 'best_RandomForest.pkl'.\n"
     ]
    }
   ],
   "source": [
    "import pickle\n",
    "from sklearn.model_selection import train_test_split\n",
    "from sklearn.linear_model import LinearRegression\n",
    "from sklearn.tree import DecisionTreeRegressor\n",
    "from sklearn.ensemble import RandomForestRegressor\n",
    "from xgboost import XGBRegressor\n",
    "from sklearn.preprocessing import MinMaxScaler\n",
    "from sklearn.metrics import mean_absolute_error, mean_squared_error, r2_score\n",
    "\n",
    "# Split data into feature columns (X) and target column (y)\n",
    "X = df_m.drop('Close', axis=1)  # Features\n",
    "y = df_m['Close']  # Target variable\n",
    "\n",
    "# Step 1: Train-Test Split (80% training, 20% testing)\n",
    "X_train, X_test, y_train, y_test = train_test_split(X, y, test_size=0.2, shuffle=False)\n",
    "\n",
    "# Save the train-test split for future reuse\n",
    "with open('train_test_split.pkl', 'wb') as f:\n",
    "    pickle.dump((X_train, X_test, y_train, y_test), f)\n",
    "\n",
    "# Step 2: Initialize and apply Min-Max Scaler\n",
    "scaler = MinMaxScaler()\n",
    "X_train_scaled = scaler.fit_transform(X_train)  # Fit and transform on training data\n",
    "X_test_scaled = scaler.transform(X_test)  # Transform the test data using the same scaler\n",
    "\n",
    "# Save the fitted scaler\n",
    "with open('scaler.pkl', 'wb') as f:\n",
    "    pickle.dump(scaler, f)\n",
    "\n",
    "# Step 3: Initialize models\n",
    "models = {\n",
    "    'LinearRegression': LinearRegression(),\n",
    "    'DecisionTree': DecisionTreeRegressor(),\n",
    "    'RandomForest': RandomForestRegressor(),\n",
    "    'XGBoost': XGBRegressor()\n",
    "}\n",
    "\n",
    "# Step 4: Train models, evaluate, and save the best model\n",
    "best_model = None\n",
    "best_r2 = float('-inf')  # To keep track of the best R^2 score\n",
    "for name, model in models.items():\n",
    "    model.fit(X_train_scaled, y_train)  # Train the model\n",
    "    y_pred = model.predict(X_test_scaled)  # Make predictions on test data\n",
    "\n",
    "    # Evaluate the model\n",
    "    mae = mean_absolute_error(y_test, y_pred)\n",
    "    mse = mean_squared_error(y_test, y_pred)\n",
    "    r2 = r2_score(y_test, y_pred)\n",
    "\n",
    "    print(f\"{name} - Evaluation Metrics:\")\n",
    "    print(f\"Mean Absolute Error (MAE): {mae}\")\n",
    "    print(f\"Mean Squared Error (MSE): {mse}\")\n",
    "    print(f\"R^2 Score: {r2}\\n\")\n",
    "\n",
    "    # Save the model with its name\n",
    "    \n",
    "    \n",
    "      \n",
    "    \n",
    "\n",
    "    # Update the best model if this one performs better\n",
    "    if r2 > best_r2:\n",
    "        best_r2 = r2\n",
    "        best_model = model\n",
    "        best_model_name = name\n",
    "\n",
    "# Save the best model separately\n",
    "best_model_filename = f\"best_{best_model_name}.pkl\"\n",
    "with open(best_model_filename, 'wb') as f:\n",
    "    pickle.dump(best_model, f)\n",
    "\n",
    "print(f\"Best model ({best_model_name}) saved as '{best_model_filename}'.\")"
   ]
  },
  {
   "cell_type": "markdown",
   "metadata": {},
   "source": [
    "Code for Model Training with Cross-Validation:"
   ]
  },
  {
   "cell_type": "markdown",
   "metadata": {},
   "source": [
    "1. Linear Regression cross validation:"
   ]
  },
  {
   "cell_type": "code",
   "execution_count": 122,
   "metadata": {},
   "outputs": [
    {
     "name": "stdout",
     "output_type": "stream",
     "text": [
      "Linear Regression - Cross-validation MAE (Training Data): 0.0008203980680303941\n",
      "Linear Regression - Test MAE: 0.0007926570871144738\n",
      "Linear Regression - Test MSE: 1.5041531236535586e-06\n",
      "Linear Regression - Test R² Score: 0.9999824139129193\n"
     ]
    }
   ],
   "source": [
    "from sklearn.linear_model import LinearRegression\n",
    "from sklearn.model_selection import train_test_split, cross_val_score\n",
    "from sklearn.metrics import mean_absolute_error, mean_squared_error, r2_score\n",
    "from sklearn.preprocessing import MinMaxScaler\n",
    "\n",
    "# Step 1: Scale the features\n",
    "scaler = MinMaxScaler()\n",
    "X_scaled = scaler.fit_transform(X)  # Scale the feature data\n",
    "\n",
    "# Step 2: Split the data into training and testing sets\n",
    "X_train, X_test, y_train, y_test = train_test_split(X_scaled, y, test_size=0.2, random_state=42)\n",
    "\n",
    "# Step 3: Initialize the Linear Regression model\n",
    "lr_model = LinearRegression()\n",
    "\n",
    "# Step 4: Train the model on the training data\n",
    "lr_model.fit(X_train, y_train)\n",
    "\n",
    "# Step 5: Evaluate using cross-validation on the training set\n",
    "cv_scores_lr = cross_val_score(lr_model, X_train, y_train, cv=5, scoring='neg_mean_absolute_error')\n",
    "\n",
    "# Step 6: Make predictions on the test set\n",
    "y_pred_lr = lr_model.predict(X_test)\n",
    "\n",
    "# Step 7: Compute evaluation metrics on the test data\n",
    "mae_lr = mean_absolute_error(y_test, y_pred_lr)\n",
    "mse_lr = mean_squared_error(y_test, y_pred_lr)\n",
    "r2_lr = r2_score(y_test, y_pred_lr)\n",
    "\n",
    "# Step 8: Display results\n",
    "print(f\"Linear Regression - Cross-validation MAE (Training Data): {-cv_scores_lr.mean()}\")\n",
    "print(f\"Linear Regression - Test MAE: {mae_lr}\")\n",
    "print(f\"Linear Regression - Test MSE: {mse_lr}\")\n",
    "print(f\"Linear Regression - Test R² Score: {r2_lr}\")"
   ]
  },
  {
   "cell_type": "markdown",
   "metadata": {},
   "source": [
    "2. Decision Tree Regressor cross validation: "
   ]
  },
  {
   "cell_type": "code",
   "execution_count": 123,
   "metadata": {},
   "outputs": [
    {
     "name": "stdout",
     "output_type": "stream",
     "text": [
      "Decision Tree - Cross-validation MAE (Training Data): 0.0004584667623752983\n",
      "Decision Tree - Test MAE: 0.0004349774470855973\n",
      "Decision Tree - Test MSE: 8.906397624169871e-07\n",
      "Decision Tree - Test R² Score: 0.9999895869189293\n"
     ]
    }
   ],
   "source": [
    "from sklearn.tree import DecisionTreeRegressor\n",
    "from sklearn.model_selection import cross_val_score\n",
    "from sklearn.metrics import mean_absolute_error, mean_squared_error, r2_score\n",
    "from sklearn.model_selection import train_test_split\n",
    "from sklearn.preprocessing import MinMaxScaler\n",
    "\n",
    "# Step 1: Scale the features\n",
    "scaler = MinMaxScaler()\n",
    "X_scaled = scaler.fit_transform(X)  # Scale the feature data\n",
    "\n",
    "# Step 2: Train-Test Split\n",
    "X_train, X_test, y_train, y_test = train_test_split(X_scaled, y, test_size=0.2, random_state=42)\n",
    "\n",
    "# Step 3: Initialize the Decision Tree model\n",
    "dt_model = DecisionTreeRegressor(random_state=42)\n",
    "\n",
    "# Step 4: Train the model on the training data\n",
    "dt_model.fit(X_train, y_train)\n",
    "\n",
    "# Step 5: Cross-validation on the training set\n",
    "cv_scores_dt = cross_val_score(dt_model, X_train, y_train, cv=5, scoring='neg_mean_absolute_error')\n",
    "\n",
    "# Step 6: Make predictions on the test set\n",
    "y_pred_dt = dt_model.predict(X_test)\n",
    "\n",
    "# Step 7: Compute evaluation metrics on the test data\n",
    "mae_dt = mean_absolute_error(y_test, y_pred_dt)\n",
    "mse_dt = mean_squared_error(y_test, y_pred_dt)\n",
    "r2_dt = r2_score(y_test, y_pred_dt)\n",
    "\n",
    "# Step 8: Display results\n",
    "print(f\"Decision Tree - Cross-validation MAE (Training Data): {-cv_scores_dt.mean()}\")\n",
    "print(f\"Decision Tree - Test MAE: {mae_dt}\")\n",
    "print(f\"Decision Tree - Test MSE: {mse_dt}\")\n",
    "print(f\"Decision Tree - Test R² Score: {r2_dt}\")"
   ]
  },
  {
   "cell_type": "markdown",
   "metadata": {},
   "source": [
    "3. Random Forest Regressor cross validation:"
   ]
  },
  {
   "cell_type": "code",
   "execution_count": 124,
   "metadata": {},
   "outputs": [
    {
     "name": "stdout",
     "output_type": "stream",
     "text": [
      "Random Forest - Cross-validation MAE (Training Data): 0.00037165285642920055\n",
      "Random Forest - Test MAE: 0.0003468186042685503\n",
      "Random Forest - Test MSE: 4.766474912382188e-07\n",
      "Random Forest - Test R² Score: 0.9999944271868629\n"
     ]
    }
   ],
   "source": [
    "from sklearn.ensemble import RandomForestRegressor\n",
    "from sklearn.model_selection import cross_val_score\n",
    "from sklearn.metrics import mean_absolute_error, mean_squared_error, r2_score\n",
    "from sklearn.model_selection import train_test_split\n",
    "from sklearn.preprocessing import MinMaxScaler\n",
    "\n",
    "# Step 1: Scale the features\n",
    "scaler = MinMaxScaler()\n",
    "X_scaled = scaler.fit_transform(X)  # Scale the feature data\n",
    "\n",
    "# Step 2: Train-Test Split\n",
    "X_train, X_test, y_train, y_test = train_test_split(X_scaled, y, test_size=0.2, random_state=42)\n",
    "\n",
    "# Step 3: Initialize the Random Forest model\n",
    "rf_model = RandomForestRegressor(random_state=42)\n",
    "\n",
    "# Step 4: Train the model on the training data\n",
    "rf_model.fit(X_train, y_train)\n",
    "\n",
    "# Step 5: Cross-validation on the training set\n",
    "cv_scores_rf = cross_val_score(rf_model, X_train, y_train, cv=5, scoring='neg_mean_absolute_error')\n",
    "\n",
    "# Step 6: Make predictions on the test set\n",
    "y_pred_rf = rf_model.predict(X_test)\n",
    "\n",
    "# Step 7: Compute evaluation metrics on the test data\n",
    "mae_rf = mean_absolute_error(y_test, y_pred_rf)\n",
    "mse_rf = mean_squared_error(y_test, y_pred_rf)\n",
    "r2_rf = r2_score(y_test, y_pred_rf)\n",
    "\n",
    "# Step 8: Display results\n",
    "print(f\"Random Forest - Cross-validation MAE (Training Data): {-cv_scores_rf.mean()}\")\n",
    "print(f\"Random Forest - Test MAE: {mae_rf}\")\n",
    "print(f\"Random Forest - Test MSE: {mse_rf}\")\n",
    "print(f\"Random Forest - Test R² Score: {r2_rf}\")\n"
   ]
  },
  {
   "cell_type": "markdown",
   "metadata": {},
   "source": [
    "4. XB BOOSTER  Regressor:"
   ]
  },
  {
   "cell_type": "code",
   "execution_count": 125,
   "metadata": {},
   "outputs": [
    {
     "name": "stdout",
     "output_type": "stream",
     "text": [
      "XGBoost - MAE: 0.0010679946534014567\n",
      "XGBoost - MSE: 5.019785669528343e-06\n",
      "XGBoost - R² Score: 0.9999413102386169\n"
     ]
    }
   ],
   "source": [
    "from xgboost import XGBRegressor\n",
    "from sklearn.metrics import mean_absolute_error, mean_squared_error, r2_score\n",
    "from sklearn.model_selection import train_test_split\n",
    "from sklearn.preprocessing import MinMaxScaler\n",
    "\n",
    "# Step 1: Scale the features\n",
    "scaler = MinMaxScaler()\n",
    "X_scaled = scaler.fit_transform(X)  # Scale the feature data\n",
    "\n",
    "# Step 2: Train-Test Split\n",
    "X_train, X_test, y_train, y_test = train_test_split(X_scaled, y, test_size=0.2, random_state=42)\n",
    "\n",
    "# Step 3: Initialize the XGBRegressor model\n",
    "xgb_model = XGBRegressor(n_estimators=100, max_depth=6, random_state=42)\n",
    "\n",
    "# Step 4: Train the model on the training data\n",
    "xgb_model.fit(X_train, y_train)\n",
    "\n",
    "# Step 5: Make predictions on the test set\n",
    "y_pred_xgb = xgb_model.predict(X_test)\n",
    "\n",
    "# Step 6: Compute evaluation metrics on the test data\n",
    "mae_xgb = mean_absolute_error(y_test, y_pred_xgb)\n",
    "mse_xgb = mean_squared_error(y_test, y_pred_xgb)\n",
    "r2_xgb = r2_score(y_test, y_pred_xgb)\n",
    "\n",
    "# Step 7: Display results\n",
    "print(f\"XGBoost - MAE: {mae_xgb}\")\n",
    "print(f\"XGBoost - MSE: {mse_xgb}\")\n",
    "print(f\"XGBoost - R² Score: {r2_xgb}\")"
   ]
  },
  {
   "cell_type": "markdown",
   "metadata": {},
   "source": [
    " MLflow Integration\n"
   ]
  },
  {
   "cell_type": "code",
   "execution_count": 126,
   "metadata": {},
   "outputs": [
    {
     "name": "stdout",
     "output_type": "stream",
     "text": [
      "Requirement already satisfied: mlflow in c:\\users\\abina\\appdata\\local\\programs\\python\\python313\\lib\\site-packages (2.19.0)\n",
      "Requirement already satisfied: mlflow-skinny==2.19.0 in c:\\users\\abina\\appdata\\local\\programs\\python\\python313\\lib\\site-packages (from mlflow) (2.19.0)\n",
      "Requirement already satisfied: Flask<4 in c:\\users\\abina\\appdata\\local\\programs\\python\\python313\\lib\\site-packages (from mlflow) (3.1.0)\n",
      "Requirement already satisfied: Jinja2<4,>=3.0 in c:\\users\\abina\\appdata\\local\\programs\\python\\python313\\lib\\site-packages (from mlflow) (3.1.4)\n",
      "Requirement already satisfied: alembic!=1.10.0,<2 in c:\\users\\abina\\appdata\\local\\programs\\python\\python313\\lib\\site-packages (from mlflow) (1.14.0)\n",
      "Requirement already satisfied: docker<8,>=4.0.0 in c:\\users\\abina\\appdata\\local\\programs\\python\\python313\\lib\\site-packages (from mlflow) (7.1.0)\n",
      "Requirement already satisfied: graphene<4 in c:\\users\\abina\\appdata\\local\\programs\\python\\python313\\lib\\site-packages (from mlflow) (3.4.3)\n",
      "Requirement already satisfied: markdown<4,>=3.3 in c:\\users\\abina\\appdata\\local\\programs\\python\\python313\\lib\\site-packages (from mlflow) (3.7)\n",
      "Requirement already satisfied: matplotlib<4 in c:\\users\\abina\\appdata\\local\\programs\\python\\python313\\lib\\site-packages (from mlflow) (3.9.2)\n",
      "Requirement already satisfied: numpy<3 in c:\\users\\abina\\appdata\\local\\programs\\python\\python313\\lib\\site-packages (from mlflow) (2.1.3)\n",
      "Requirement already satisfied: pandas<3 in c:\\users\\abina\\appdata\\local\\programs\\python\\python313\\lib\\site-packages (from mlflow) (2.2.3)\n",
      "Requirement already satisfied: pyarrow<19,>=4.0.0 in c:\\users\\abina\\appdata\\local\\programs\\python\\python313\\lib\\site-packages (from mlflow) (18.1.0)\n",
      "Requirement already satisfied: scikit-learn<2 in c:\\users\\abina\\appdata\\local\\programs\\python\\python313\\lib\\site-packages (from mlflow) (1.6.0)\n",
      "Requirement already satisfied: scipy<2 in c:\\users\\abina\\appdata\\local\\programs\\python\\python313\\lib\\site-packages (from mlflow) (1.14.1)\n",
      "Requirement already satisfied: sqlalchemy<3,>=1.4.0 in c:\\users\\abina\\appdata\\local\\programs\\python\\python313\\lib\\site-packages (from mlflow) (2.0.36)\n",
      "Requirement already satisfied: waitress<4 in c:\\users\\abina\\appdata\\local\\programs\\python\\python313\\lib\\site-packages (from mlflow) (3.0.2)\n",
      "Requirement already satisfied: cachetools<6,>=5.0.0 in c:\\users\\abina\\appdata\\local\\programs\\python\\python313\\lib\\site-packages (from mlflow-skinny==2.19.0->mlflow) (5.5.0)\n",
      "Requirement already satisfied: click<9,>=7.0 in c:\\users\\abina\\appdata\\local\\programs\\python\\python313\\lib\\site-packages (from mlflow-skinny==2.19.0->mlflow) (8.1.7)\n",
      "Requirement already satisfied: cloudpickle<4 in c:\\users\\abina\\appdata\\local\\programs\\python\\python313\\lib\\site-packages (from mlflow-skinny==2.19.0->mlflow) (3.1.0)\n",
      "Requirement already satisfied: databricks-sdk<1,>=0.20.0 in c:\\users\\abina\\appdata\\local\\programs\\python\\python313\\lib\\site-packages (from mlflow-skinny==2.19.0->mlflow) (0.40.0)\n",
      "Requirement already satisfied: gitpython<4,>=3.1.9 in c:\\users\\abina\\appdata\\local\\programs\\python\\python313\\lib\\site-packages (from mlflow-skinny==2.19.0->mlflow) (3.1.43)\n",
      "Requirement already satisfied: importlib_metadata!=4.7.0,<9,>=3.7.0 in c:\\users\\abina\\appdata\\local\\programs\\python\\python313\\lib\\site-packages (from mlflow-skinny==2.19.0->mlflow) (8.5.0)\n",
      "Requirement already satisfied: opentelemetry-api<3,>=1.9.0 in c:\\users\\abina\\appdata\\local\\programs\\python\\python313\\lib\\site-packages (from mlflow-skinny==2.19.0->mlflow) (1.29.0)\n",
      "Requirement already satisfied: opentelemetry-sdk<3,>=1.9.0 in c:\\users\\abina\\appdata\\local\\programs\\python\\python313\\lib\\site-packages (from mlflow-skinny==2.19.0->mlflow) (1.29.0)\n",
      "Requirement already satisfied: packaging<25 in c:\\users\\abina\\appdata\\roaming\\python\\python313\\site-packages (from mlflow-skinny==2.19.0->mlflow) (24.1)\n",
      "Requirement already satisfied: protobuf<6,>=3.12.0 in c:\\users\\abina\\appdata\\local\\programs\\python\\python313\\lib\\site-packages (from mlflow-skinny==2.19.0->mlflow) (5.28.3)\n",
      "Requirement already satisfied: pyyaml<7,>=5.1 in c:\\users\\abina\\appdata\\local\\programs\\python\\python313\\lib\\site-packages (from mlflow-skinny==2.19.0->mlflow) (6.0.2)\n",
      "Requirement already satisfied: requests<3,>=2.17.3 in c:\\users\\abina\\appdata\\local\\programs\\python\\python313\\lib\\site-packages (from mlflow-skinny==2.19.0->mlflow) (2.32.3)\n",
      "Requirement already satisfied: sqlparse<1,>=0.4.0 in c:\\users\\abina\\appdata\\local\\programs\\python\\python313\\lib\\site-packages (from mlflow-skinny==2.19.0->mlflow) (0.5.3)\n",
      "Requirement already satisfied: Mako in c:\\users\\abina\\appdata\\local\\programs\\python\\python313\\lib\\site-packages (from alembic!=1.10.0,<2->mlflow) (1.3.8)\n",
      "Requirement already satisfied: typing-extensions>=4 in c:\\users\\abina\\appdata\\local\\programs\\python\\python313\\lib\\site-packages (from alembic!=1.10.0,<2->mlflow) (4.12.2)\n",
      "Requirement already satisfied: pywin32>=304 in c:\\users\\abina\\appdata\\roaming\\python\\python313\\site-packages (from docker<8,>=4.0.0->mlflow) (308)\n",
      "Requirement already satisfied: urllib3>=1.26.0 in c:\\users\\abina\\appdata\\local\\programs\\python\\python313\\lib\\site-packages (from docker<8,>=4.0.0->mlflow) (2.2.3)\n",
      "Requirement already satisfied: Werkzeug>=3.1 in c:\\users\\abina\\appdata\\local\\programs\\python\\python313\\lib\\site-packages (from Flask<4->mlflow) (3.1.3)\n",
      "Requirement already satisfied: itsdangerous>=2.2 in c:\\users\\abina\\appdata\\local\\programs\\python\\python313\\lib\\site-packages (from Flask<4->mlflow) (2.2.0)\n",
      "Requirement already satisfied: blinker>=1.9 in c:\\users\\abina\\appdata\\local\\programs\\python\\python313\\lib\\site-packages (from Flask<4->mlflow) (1.9.0)\n",
      "Requirement already satisfied: graphql-core<3.3,>=3.1 in c:\\users\\abina\\appdata\\local\\programs\\python\\python313\\lib\\site-packages (from graphene<4->mlflow) (3.2.5)\n",
      "Requirement already satisfied: graphql-relay<3.3,>=3.1 in c:\\users\\abina\\appdata\\local\\programs\\python\\python313\\lib\\site-packages (from graphene<4->mlflow) (3.2.0)\n",
      "Requirement already satisfied: python-dateutil<3,>=2.7.0 in c:\\users\\abina\\appdata\\roaming\\python\\python313\\site-packages (from graphene<4->mlflow) (2.9.0.post0)\n",
      "Requirement already satisfied: MarkupSafe>=2.0 in c:\\users\\abina\\appdata\\local\\programs\\python\\python313\\lib\\site-packages (from Jinja2<4,>=3.0->mlflow) (2.1.5)\n",
      "Requirement already satisfied: contourpy>=1.0.1 in c:\\users\\abina\\appdata\\local\\programs\\python\\python313\\lib\\site-packages (from matplotlib<4->mlflow) (1.3.1)\n",
      "Requirement already satisfied: cycler>=0.10 in c:\\users\\abina\\appdata\\local\\programs\\python\\python313\\lib\\site-packages (from matplotlib<4->mlflow) (0.12.1)\n",
      "Requirement already satisfied: fonttools>=4.22.0 in c:\\users\\abina\\appdata\\local\\programs\\python\\python313\\lib\\site-packages (from matplotlib<4->mlflow) (4.55.0)\n",
      "Requirement already satisfied: kiwisolver>=1.3.1 in c:\\users\\abina\\appdata\\local\\programs\\python\\python313\\lib\\site-packages (from matplotlib<4->mlflow) (1.4.7)\n",
      "Requirement already satisfied: pillow>=8 in c:\\users\\abina\\appdata\\local\\programs\\python\\python313\\lib\\site-packages (from matplotlib<4->mlflow) (11.0.0)\n",
      "Requirement already satisfied: pyparsing>=2.3.1 in c:\\users\\abina\\appdata\\local\\programs\\python\\python313\\lib\\site-packages (from matplotlib<4->mlflow) (3.2.0)\n",
      "Requirement already satisfied: pytz>=2020.1 in c:\\users\\abina\\appdata\\local\\programs\\python\\python313\\lib\\site-packages (from pandas<3->mlflow) (2024.2)\n",
      "Requirement already satisfied: tzdata>=2022.7 in c:\\users\\abina\\appdata\\local\\programs\\python\\python313\\lib\\site-packages (from pandas<3->mlflow) (2024.2)\n",
      "Requirement already satisfied: joblib>=1.2.0 in c:\\users\\abina\\appdata\\local\\programs\\python\\python313\\lib\\site-packages (from scikit-learn<2->mlflow) (1.4.2)\n",
      "Requirement already satisfied: threadpoolctl>=3.1.0 in c:\\users\\abina\\appdata\\local\\programs\\python\\python313\\lib\\site-packages (from scikit-learn<2->mlflow) (3.5.0)\n",
      "Requirement already satisfied: colorama in c:\\users\\abina\\appdata\\roaming\\python\\python313\\site-packages (from click<9,>=7.0->mlflow-skinny==2.19.0->mlflow) (0.4.6)\n",
      "Requirement already satisfied: google-auth~=2.0 in c:\\users\\abina\\appdata\\local\\programs\\python\\python313\\lib\\site-packages (from databricks-sdk<1,>=0.20.0->mlflow-skinny==2.19.0->mlflow) (2.37.0)\n",
      "Requirement already satisfied: gitdb<5,>=4.0.1 in c:\\users\\abina\\appdata\\local\\programs\\python\\python313\\lib\\site-packages (from gitpython<4,>=3.1.9->mlflow-skinny==2.19.0->mlflow) (4.0.11)\n",
      "Requirement already satisfied: zipp>=3.20 in c:\\users\\abina\\appdata\\local\\programs\\python\\python313\\lib\\site-packages (from importlib_metadata!=4.7.0,<9,>=3.7.0->mlflow-skinny==2.19.0->mlflow) (3.21.0)\n",
      "Requirement already satisfied: deprecated>=1.2.6 in c:\\users\\abina\\appdata\\local\\programs\\python\\python313\\lib\\site-packages (from opentelemetry-api<3,>=1.9.0->mlflow-skinny==2.19.0->mlflow) (1.2.15)\n",
      "Requirement already satisfied: opentelemetry-semantic-conventions==0.50b0 in c:\\users\\abina\\appdata\\local\\programs\\python\\python313\\lib\\site-packages (from opentelemetry-sdk<3,>=1.9.0->mlflow-skinny==2.19.0->mlflow) (0.50b0)\n",
      "Requirement already satisfied: six>=1.5 in c:\\users\\abina\\appdata\\roaming\\python\\python313\\site-packages (from python-dateutil<3,>=2.7.0->graphene<4->mlflow) (1.16.0)\n",
      "Requirement already satisfied: charset-normalizer<4,>=2 in c:\\users\\abina\\appdata\\local\\programs\\python\\python313\\lib\\site-packages (from requests<3,>=2.17.3->mlflow-skinny==2.19.0->mlflow) (3.4.0)\n",
      "Requirement already satisfied: idna<4,>=2.5 in c:\\users\\abina\\appdata\\local\\programs\\python\\python313\\lib\\site-packages (from requests<3,>=2.17.3->mlflow-skinny==2.19.0->mlflow) (3.10)\n",
      "Requirement already satisfied: certifi>=2017.4.17 in c:\\users\\abina\\appdata\\local\\programs\\python\\python313\\lib\\site-packages (from requests<3,>=2.17.3->mlflow-skinny==2.19.0->mlflow) (2024.8.30)\n",
      "Requirement already satisfied: wrapt<2,>=1.10 in c:\\users\\abina\\appdata\\local\\programs\\python\\python313\\lib\\site-packages (from deprecated>=1.2.6->opentelemetry-api<3,>=1.9.0->mlflow-skinny==2.19.0->mlflow) (1.17.0)\n",
      "Requirement already satisfied: smmap<6,>=3.0.1 in c:\\users\\abina\\appdata\\local\\programs\\python\\python313\\lib\\site-packages (from gitdb<5,>=4.0.1->gitpython<4,>=3.1.9->mlflow-skinny==2.19.0->mlflow) (5.0.1)\n",
      "Requirement already satisfied: pyasn1-modules>=0.2.1 in c:\\users\\abina\\appdata\\local\\programs\\python\\python313\\lib\\site-packages (from google-auth~=2.0->databricks-sdk<1,>=0.20.0->mlflow-skinny==2.19.0->mlflow) (0.4.1)\n",
      "Requirement already satisfied: rsa<5,>=3.1.4 in c:\\users\\abina\\appdata\\local\\programs\\python\\python313\\lib\\site-packages (from google-auth~=2.0->databricks-sdk<1,>=0.20.0->mlflow-skinny==2.19.0->mlflow) (4.9)\n",
      "Requirement already satisfied: pyasn1<0.7.0,>=0.4.6 in c:\\users\\abina\\appdata\\local\\programs\\python\\python313\\lib\\site-packages (from pyasn1-modules>=0.2.1->google-auth~=2.0->databricks-sdk<1,>=0.20.0->mlflow-skinny==2.19.0->mlflow) (0.6.1)\n",
      "Note: you may need to restart the kernel to use updated packages.\n"
     ]
    }
   ],
   "source": [
    "%pip install mlflow"
   ]
  },
  {
   "cell_type": "code",
   "execution_count": null,
   "metadata": {},
   "outputs": [
    {
     "name": "stderr",
     "output_type": "stream",
     "text": [
      "2025/01/13 00:45:23 INFO mlflow.tracking.fluent: Experiment with name 'FAANG Stock Price Predictions' does not exist. Creating a new experiment.\n"
     ]
    }
   ],
   "source": [
    "import mlflow\n",
    "import mlflow.sklearn\n",
    "import pickle\n",
    "from sklearn.metrics import r2_score, mean_squared_error, mean_absolute_error, mean_absolute_percentage_error\n",
    "\n",
    "# Set MLflow tracking URI and experiment\n",
    "mlflow.set_tracking_uri(\"http://127.0.0.1:5000\")  # Set to your MLflow tracking server URI\n",
    "mlflow.set_experiment(\"FAANG Stock Price Predictions\")\n",
    "\n",
    "# Define function to log model and evaluation metrics to MLflow and save the best model\n",
    "def log_model(model, model_name, X_train, X_test, y_train, y_test, params=None):\n",
    "    with mlflow.start_run(run_name=model_name) as run:\n",
    "        # Train the model\n",
    "        model.fit(X_train, y_train)\n",
    "\n",
    "        # Predict on the test set\n",
    "        y_test_pred = model.predict(X_test)\n",
    "\n",
    "        # Calculate evaluation metrics\n",
    "        test_r2 = r2_score(y_test, y_test_pred)\n",
    "        test_mse = mean_squared_error(y_test, y_test_pred)\n",
    "        test_mae = mean_absolute_error(y_test, y_test_pred)\n",
    "        test_mape = mean_absolute_percentage_error(y_test, y_test_pred)\n",
    "\n",
    "        # Log metrics\n",
    "        mlflow.log_metric(\"test_r2\", test_r2)\n",
    "        mlflow.log_metric(\"test_mse\", test_mse)\n",
    "        mlflow.log_metric(\"test_mae\", test_mae)\n",
    "        mlflow.log_metric(\"test_mape\", test_mape)\n",
    "\n",
    "        # Log parameters (if provided)\n",
    "        if params:\n",
    "            mlflow.log_params(params)\n",
    "\n",
    "        # Log the model\n",
    "        mlflow.sklearn.log_model(model, artifact_path=\"model\")\n",
    "\n",
    "        # Save the best model using pickle\n",
    "        with open('best_RandomForest.pkl', 'wb') as f:\n",
    "            pickle.dump(model, f)\n",
    "\n",
    "        # Print the successful log message with run ID\n",
    "        print(f\"Model {model_name} logged and saved as 'best_RandomForest.pkl' successfully! Run ID: {run.info.run_id}\")\n",
    "\n",
    "    # Return the run ID for further reference\n",
    "    return run.info.run_id"
   ]
  },
  {
   "cell_type": "code",
   "execution_count": 97,
   "metadata": {},
   "outputs": [],
   "source": [
    "# import mlflow\n",
    "# import mlflow.sklearn\n",
    "\n",
    "# from sklearn.metrics import r2_score, mean_squared_error, mean_absolute_error, mean_absolute_percentage_error\n",
    "\n",
    "# # Set MLflow tracking URI and experiment\n",
    "# mlflow.set_tracking_uri(\"http://127.0.0.1:5000\")\n",
    "# mlflow.set_experiment(\"FAANG Stock Price Predictions \")\n",
    "\n",
    "\n",
    "# def log_model(model, model_name, X_train, X_test, y_train, y_test, params=None):\n",
    "#     with mlflow.start_run(run_name=model_name) as run:\n",
    "#         # Train the model\n",
    "#         model.fit(X_train, y_train)\n",
    "\n",
    "#         # Predict on the test set\n",
    "#         y_test_pred = model.predict(X_test)\n",
    "\n",
    "#         # Calculate metrics\n",
    "#         test_r2 = r2_score(y_test, y_test_pred)\n",
    "#         test_mse = mean_squared_error(y_test, y_test_pred)\n",
    "#         test_mae = mean_absolute_error(y_test, y_test_pred)\n",
    "#         test_mape = mean_absolute_percentage_error(y_test, y_test_pred)\n",
    "\n",
    "#         # Log metrics\n",
    "#         mlflow.log_metric(\"test_r2\", test_r2)\n",
    "#         mlflow.log_metric(\"test_mse\", test_mse)\n",
    "#         mlflow.log_metric(\"test_mae\", test_mae)\n",
    "#         mlflow.log_metric(\"test_mape\", test_mape)\n",
    "\n",
    "#         # Log parameters\n",
    "#         if params:\n",
    "#             mlflow.log_params(params)\n",
    "\n",
    "#         # Log the model\n",
    "#         mlflow.sklearn.log_model(model, artifact_path=\"model\")\n",
    "\n",
    "#         print(f\"Model {model_name} logged successfully! Run ID: {run.info.run_id}\")\n",
    "\n",
    "#     return run.info.run_id"
   ]
  },
  {
   "cell_type": "code",
   "execution_count": 128,
   "metadata": {},
   "outputs": [],
   "source": [
    "# # model regirstration\n",
    "# model_n ='rfr_model'\n",
    "# run_id = input(\"Enter the runID: \")\n",
    "# model_uri = f'runs:/{run_id}/model'\n",
    "\n",
    "# with mlflow.start_run(run_id=run_id):\n",
    "#     mlflow.register_model(model_uri= model_uri , name= model_n)\n",
    "def register_model(run_id, model_name):\n",
    "    model_uri = f\"runs:/{run_id}/model\"\n",
    "    registered_model = mlflow.register_model(model_uri=model_uri, name=model_name)\n",
    "    print(f\"Model {model_name} registered successfully! Version: {registered_model.version}\")\n"
   ]
  },
  {
   "cell_type": "code",
   "execution_count": 129,
   "metadata": {},
   "outputs": [
    {
     "name": "stderr",
     "output_type": "stream",
     "text": [
      "2025/01/13 00:46:26 WARNING mlflow.models.model: Model logged without a signature and input example. Please set `input_example` parameter when logging the model to auto infer the model signature.\n"
     ]
    },
    {
     "name": "stdout",
     "output_type": "stream",
     "text": [
      "Model Random Forest Regression logged and saved as 'best_model.pkl' successfully! Run ID: 7a79f95435e745d3a5cf4061f44da66f\n",
      "🏃 View run Random Forest Regression at: http://127.0.0.1:5000/#/experiments/383408949645555200/runs/7a79f95435e745d3a5cf4061f44da66f\n",
      "🧪 View experiment at: http://127.0.0.1:5000/#/experiments/383408949645555200\n"
     ]
    },
    {
     "name": "stderr",
     "output_type": "stream",
     "text": [
      "2025/01/13 00:46:34 WARNING mlflow.models.model: Model logged without a signature and input example. Please set `input_example` parameter when logging the model to auto infer the model signature.\n"
     ]
    },
    {
     "name": "stdout",
     "output_type": "stream",
     "text": [
      "Model Linear Regression logged and saved as 'best_model.pkl' successfully! Run ID: 9e0482cf55b04f7b96cce4e5ec6c67fc\n",
      "🏃 View run Linear Regression at: http://127.0.0.1:5000/#/experiments/383408949645555200/runs/9e0482cf55b04f7b96cce4e5ec6c67fc\n",
      "🧪 View experiment at: http://127.0.0.1:5000/#/experiments/383408949645555200\n"
     ]
    },
    {
     "name": "stderr",
     "output_type": "stream",
     "text": [
      "2025/01/13 00:46:39 WARNING mlflow.models.model: Model logged without a signature and input example. Please set `input_example` parameter when logging the model to auto infer the model signature.\n"
     ]
    },
    {
     "name": "stdout",
     "output_type": "stream",
     "text": [
      "Model Decision Tree logged and saved as 'best_model.pkl' successfully! Run ID: 8eb5f0c7ec714fd4a3f07a5912b9c3ae\n",
      "🏃 View run Decision Tree at: http://127.0.0.1:5000/#/experiments/383408949645555200/runs/8eb5f0c7ec714fd4a3f07a5912b9c3ae\n",
      "🧪 View experiment at: http://127.0.0.1:5000/#/experiments/383408949645555200\n"
     ]
    },
    {
     "name": "stderr",
     "output_type": "stream",
     "text": [
      "2025/01/13 00:46:44 WARNING mlflow.models.model: Model logged without a signature and input example. Please set `input_example` parameter when logging the model to auto infer the model signature.\n",
      "Successfully registered model 'rf_model'.\n",
      "2025/01/13 00:46:44 INFO mlflow.store.model_registry.abstract_store: Waiting up to 300 seconds for model version to finish creation. Model name: rf_model, version 1\n"
     ]
    },
    {
     "name": "stdout",
     "output_type": "stream",
     "text": [
      "Model XGBoost Regression logged and saved as 'best_model.pkl' successfully! Run ID: 2d69a49dc15841edb0148d385f3d81fd\n",
      "🏃 View run XGBoost Regression at: http://127.0.0.1:5000/#/experiments/383408949645555200/runs/2d69a49dc15841edb0148d385f3d81fd\n",
      "🧪 View experiment at: http://127.0.0.1:5000/#/experiments/383408949645555200\n",
      "Model rf_model registered successfully! Version: 1\n"
     ]
    },
    {
     "name": "stderr",
     "output_type": "stream",
     "text": [
      "Created version '1' of model 'rf_model'.\n"
     ]
    }
   ],
   "source": [
    "# Step 1: Log the model\n",
    "# Random Forest\n",
    "run_id = log_model(rf_model,\"Random Forest Regression\", X_train, X_test, y_train, y_test, params=rf_model.get_params())\n",
    "#  Linear Regression\n",
    "log_model(lr_model, \"Linear Regression\", X_train, X_test, y_train, y_test, params=lr_model.get_params())\n",
    "\n",
    "# Decision Tree Regression\n",
    "log_model(dt_model, \"Decision Tree\", X_train, X_test, y_train, y_test, params=dt_model.get_params())\n",
    "\n",
    "# Log Lasso Regression\n",
    "log_model(xgb_model, \"XGBoost Regression\", X_train, X_test, y_train, y_test, params=xgb_model.get_params())\n",
    "\n",
    "\n",
    "# Step 2: Register the model\n",
    "register_model(run_id, \"rf_model\")"
   ]
  },
  {
   "cell_type": "code",
   "execution_count": 130,
   "metadata": {},
   "outputs": [
    {
     "name": "stdout",
     "output_type": "stream",
     "text": [
      "Model Name: rf_model\n",
      "Version: 1, Stage: None, Source: mlflow-artifacts:/383408949645555200/7a79f95435e745d3a5cf4061f44da66f/artifacts/model\n"
     ]
    }
   ],
   "source": [
    "from mlflow.tracking import MlflowClient\n",
    "\n",
    "client = MlflowClient()\n",
    "\n",
    "# Check registered model details\n",
    "models = client.search_registered_models(filter_string=\"name='rf_model'\")\n",
    "for model in models:\n",
    "    print(f\"Model Name: {model.name}\")\n",
    "    for version in model.latest_versions:\n",
    "        print(f\"Version: {version.version}, Stage: {version.current_stage}, Source: {version.source}\")"
   ]
  },
  {
   "cell_type": "code",
   "execution_count": 131,
   "metadata": {},
   "outputs": [
    {
     "name": "stdout",
     "output_type": "stream",
     "text": [
      "Model rf_model version 1 transitioned to stage Staging.\n"
     ]
    },
    {
     "name": "stderr",
     "output_type": "stream",
     "text": [
      "C:\\Users\\abina\\AppData\\Local\\Temp\\ipykernel_13656\\1572236173.py:11: FutureWarning: ``mlflow.tracking.client.MlflowClient.transition_model_version_stage`` is deprecated since 2.9.0. Model registry stages will be removed in a future major release. To learn more about the deprecation of model registry stages, see our migration guide here: https://mlflow.org/docs/latest/model-registry.html#migrating-from-stages\n",
      "  client.transition_model_version_stage(\n"
     ]
    }
   ],
   "source": [
    "from mlflow.tracking import MlflowClient\n",
    "\n",
    "# # Initialize MLflow client\n",
    "client = MlflowClient()\n",
    "\n",
    "# # Transition the model version to the \"Staging\" stage\n",
    "model_name = \"rf_model\"\n",
    "model_version = 1  # Replace with your model version\n",
    "stage = \"Staging\"\n",
    "\n",
    "client.transition_model_version_stage(\n",
    "   name=model_name,\n",
    "    version=model_version,\n",
    "    stage=stage\n",
    ")\n",
    "\n",
    "print(f\"Model {model_name} version {model_version} transitioned to stage {stage}.\")"
   ]
  },
  {
   "cell_type": "code",
   "execution_count": 132,
   "metadata": {},
   "outputs": [
    {
     "name": "stderr",
     "output_type": "stream",
     "text": [
      "Downloading artifacts: 100%|██████████| 5/5 [00:06<00:00,  1.25s/it]\n"
     ]
    },
    {
     "name": "stdout",
     "output_type": "stream",
     "text": [
      "Model loaded successfully!\n"
     ]
    }
   ],
   "source": [
    "import mlflow.pyfunc\n",
    "\n",
    "# Load the model by version (without stages)\n",
    "model_uri = \"models:/rf_model/1\"  # specify the version number you want to load\n",
    "model = mlflow.pyfunc.load_model(model_uri)\n",
    "\n",
    "print(\"Model loaded successfully!\")"
   ]
  },
  {
   "cell_type": "code",
   "execution_count": 133,
   "metadata": {},
   "outputs": [
    {
     "name": "stdout",
     "output_type": "stream",
     "text": [
      "^C\n"
     ]
    }
   ],
   "source": [
    "! streamlit run appstock.py"
   ]
  }
 ],
 "metadata": {
  "kernelspec": {
   "display_name": "Python 3",
   "language": "python",
   "name": "python3"
  },
  "language_info": {
   "codemirror_mode": {
    "name": "ipython",
    "version": 3
   },
   "file_extension": ".py",
   "mimetype": "text/x-python",
   "name": "python",
   "nbconvert_exporter": "python",
   "pygments_lexer": "ipython3",
   "version": "3.13.0"
  }
 },
 "nbformat": 4,
 "nbformat_minor": 2
}
